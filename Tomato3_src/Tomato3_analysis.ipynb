{
 "cells": [
  {
   "cell_type": "code",
   "execution_count": 38,
   "metadata": {},
   "outputs": [],
   "source": [
    "import numpy as np\n",
    "import pandas as pd\n",
    "import os\n",
    "from matplotlib import animation\n",
    "from matplotlib import pyplot as plt\n",
    "from matplotlib import patches\n",
    "from matplotlib import cm\n",
    "import matplotlib as mpl\n",
    "from scipy.signal import butter, filtfilt\n",
    "from scipy.interpolate import interp1d\n",
    "from Tomato3_dataStructure import Trial, Subject, Experiment\n",
    "from helper import angle_overtake, lateral_overtake\n"
   ]
  },
  {
   "cell_type": "code",
   "execution_count": 41,
   "metadata": {
    "scrolled": true
   },
   "outputs": [],
   "source": [
    "'''import trials'''\n",
    "Hz = 90\n",
    "exp = Experiment()\n",
    "for i in range(1,13):\n",
    "    exp.subjects[i] = Subject(i)\n",
    "    \n",
    "input_dir = os.path.abspath(os.path.join(os.getcwd(), os.pardir, 'Tomato3_rawData\\Tomato3_input'))\n",
    "output_dir = os.path.abspath(os.path.join(os.getcwd(), os.pardir, 'Tomato3_rawData\\Tomato3_output'))\n",
    "\n",
    "for output_file in os.listdir(output_dir):\n",
    "    output_file_path = os.path.join(output_dir, output_file)\n",
    "    # import experimental data\n",
    "    if  'Tomato3_subj' in output_file and '.csv' in output_file:\n",
    "        with open(output_file_path, 'r') as f:\n",
    "            df = pd.read_csv(f, header=None)\n",
    "            lpos = np.array(df.iloc[:, [0,2,1]])\n",
    "            fpos = np.array(df.iloc[:, [3,5,4]])\n",
    "            fori = np.array(df.iloc[:, 6:9])\n",
    "            tstamps = np.array(df.iloc[:, 9])\n",
    "            leader_model = np.array(df.iloc[:, 10])\n",
    "            subject_id = int(output_file[12:14])\n",
    "            trial_id = int(output_file[20:23])\n",
    "            v0 = float(output_file[27:30])\n",
    "            if output_file[-5] == 'e':\n",
    "                leader = 'pole'\n",
    "            elif output_file[-5] == 'r':\n",
    "                leader = 'avatar'\n",
    "            leader_onset = None\n",
    "            \n",
    "            exp.subjects[subject_id].trials[trial_id] = Trial(subject_id, trial_id, lpos, fpos, fori, \\\n",
    "                                                                tstamps, v0, leader, leader_onset, leader_model)           \n",
    "    # import IPD and gender data\n",
    "    elif 'IPD' in output_file:    \n",
    "        with open(output_file_path, 'r') as f:\n",
    "            subject_id = int(output_file[12:14])\n",
    "            exp.subjects[subject_id].gender == output_file[19]\n",
    "            i = output_file.find('txt')\n",
    "            exp.subjects[subject_id].IPD == float(output_file[20:i-1])\n",
    "    # import freewalk data\n",
    "    elif 'freewalk' in output_file:\n",
    "        with open(output_file_path, 'r') as f:\n",
    "            df = pd.read_csv(f, header=None)\n",
    "            subject_id = int(output_file[21:23])\n",
    "            session = int(output_file[-14])\n",
    "            trial_id = int(output_file[-7:-4])\n",
    "            v0 = 0\n",
    "            leader = leader_onset = leader_model= None\n",
    "            fpos = np.array(df.iloc[:,[0,2,1]])\n",
    "            lpos = np.tile([0,0,0], (len(fpos), 1))\n",
    "            fori = np.array(df.iloc[:,3:6])\n",
    "            tstamps = np.array(df.iloc[:,-1])\n",
    "            if session == 1:\n",
    "                exp.subjects[subject_id].freewalk[trial_id] = Trial(subject_id, trial_id, lpos, fpos, fori, \\\n",
    "                                                                    tstamps, v0, leader, leader_onset, leader_model)\n",
    "            else:\n",
    "                trial_id += 4\n",
    "                exp.subjects[subject_id].freewalk[trial_id] = Trial(subject_id, trial_id, lpos, fpos, fori, \\\n",
    "                                                                    tstamps, v0, leader, leader_onset, leader_model)\n",
    "# import inputs\n",
    "for input_file in os.listdir(input_dir):\n",
    "    if 'Tomato3_subject' in input_file:\n",
    "        subject_id = int(input_file[-6:-4])\n",
    "        if subject_id in exp.subjects and exp.subjects[subject_id].trials != {}:\n",
    "            # read experimental trials\n",
    "            with open(os.path.join(input_dir, input_file), 'r') as f:\n",
    "                df = pd.read_csv(f)\n",
    "                for i in range(len(df)):\n",
    "                    trial_id = df.iloc[i,0]\n",
    "                    leader_onset = df.iloc[i,4]\n",
    "                    exp.subjects[subject_id].trials[trial_id].leader_onset = leader_onset\n",
    " \n",
    "\n",
    "# with open(filename, 'r') as file:\n",
    "#     rows = file.read().split('\\n')[:-1]\n",
    "#     cells = [row.split(',') for row in rows]  \n",
    "#     cells = np.array([[float(s) for s in row] for row in cells])\n",
    "#     lpos = cells[:,[0,2,1]]\n",
    "#     fpos = cells[:,[3,5,4]]\n",
    "#     fori = cells[:,6:9]\n",
    "#     tstamps = cells[:,-1]\n",
    "\n"
   ]
  },
  {
   "cell_type": "code",
   "execution_count": 29,
   "metadata": {},
   "outputs": [],
   "source": [
    "'''debug'''\n",
    "%matplotlib qt\n",
    "s = 20\n",
    "t = 31\n",
    "# print('subject_id ', exp.subjects[s].trials[t].subject_id)\n",
    "# print('trial_id ', exp.subjects[s].trials[t].trial_id)\n",
    "# print('d0 ', exp.subjects[s].trials[t].d0)\n",
    "# print('v0 ', exp.subjects[s].trials[t].v0)\n",
    "# print('tstamps ', exp.subjects[s].trials[t].tstamps)\n",
    "# print('leader ', exp.subjects[s].trials[t].leader)\n",
    "# print('leader_onset ', exp.subjects[s].trials[t].leader_onset)\n",
    "# print('leader_model ', exp.subjects[s].trials[t].leader_model)\n",
    "# print('order ', exp.subjects[s].trials[t].order)\n",
    "# print('cutoff ', exp.subjects[s].trials[t].cutoff)\n",
    "\n",
    "# # check d0\n",
    "# trials = range(1, 61)\n",
    "# for i in trials:\n",
    "#     f1 = exp.subjects[s].trials[i].f1\n",
    "#     fpos = exp.subjects[s].trials[i].fpos[f1]\n",
    "#     lpos = exp.subjects[s].trials[i].lpos[f1]\n",
    "#     distance = np.sqrt((lpos[0] - fpos[0])**2 + (lpos[1] - fpos[1])**2)\n",
    "#     lpos_filt = exp.subjects[s].trials[i].get_positions('l')[f1]\n",
    "#     fpos_filt = exp.subjects[s].trials[i].get_positions('f')[f1]\n",
    "#     distance_filt = np.sqrt((lpos_filt[0] - fpos_filt[0])**2 + (lpos_filt[1] - fpos_filt[1])**2)\n",
    "#     print('raw ', distance, ' filtered ', distance_filt)\n",
    "\n",
    "# f1 = exp.subjects[s].trials[i].f1\n",
    "# t = exp.subjects[s].trials[i].tstamps\n",
    "# raw = exp.subjects[s].trials[i].get_positions('f', is_filtered=False)\n",
    "\n"
   ]
  },
  {
   "cell_type": "code",
   "execution_count": 3,
   "metadata": {},
   "outputs": [],
   "source": [
    "'''plot positions or speed of experimental trials'''\n",
    "%matplotlib qt\n",
    "subject = 12\n",
    "trials = list(range(1,61))\n",
    "for i in trials:\n",
    "    if exp.subjects[subject].trials[i].v0 == 0.8:\n",
    "        exp.subjects[subject].trials[i].plot_positions(accelerations=False, links=True)\n",
    "        \n",
    "#         exp.subjects[subject].trials[i].plot_positions(accelerations=False, links=False, is_filtered=False)\n",
    "#         exp.subjects[subject].trials[i].plot_speeds()"
   ]
  },
  {
   "cell_type": "code",
   "execution_count": 34,
   "metadata": {},
   "outputs": [],
   "source": [
    "'''Plot positions or speed of freewalk trials'''\n",
    "subject = 9\n",
    "for i, t in exp.subjects[subject].freewalk.items():\n",
    "    t.plot_positions()\n"
   ]
  },
  {
   "cell_type": "code",
   "execution_count": 20,
   "metadata": {},
   "outputs": [
    {
     "data": {
      "text/plain": [
       "<matplotlib.animation.FuncAnimation at 0x1a7195c9208>"
      ]
     },
     "execution_count": 20,
     "metadata": {},
     "output_type": "execute_result"
    }
   ],
   "source": [
    "'''animation'''\n",
    "# compare trial 6 (catch up) and 5 (let it go)\n",
    "%matplotlib qt\n",
    "subject = 1\n",
    "trial = 49\n",
    "exp.subjects[subject].trials[trial].play_trial(save=False, is_filtered=True)"
   ]
  },
  {
   "cell_type": "code",
   "execution_count": 36,
   "metadata": {},
   "outputs": [],
   "source": [
    "'''\n",
    "    Percent overtaking by leader speed by subject (12 plots). Overtaking is defined by the angle y axis and the line\n",
    "    connecting follower and leader greater than 55 degree. 55 is half of field of view in Odyssey HMD.\n",
    "'''\n",
    "%matplotlib qt\n",
    "for i, s in exp.subjects.items():\n",
    "    ot_angle = {0.8:0, 0.9:0, 1.0:0, 1.1:0, 1.2:0, 1.3:0}\n",
    "    ot_lateral = {0.8:0, 0.9:0, 1.0:0, 1.1:0, 1.2:0, 1.3:0}\n",
    "    for j, t in s.trials.items():\n",
    "        lpos = t.get_positions('l')\n",
    "        fpos = t.get_positions('f')      \n",
    "        if angle_overtake(lpos, fpos, 55):\n",
    "            ot_angle[t.v0] += 0.1\n",
    "        if lateral_overtake(fpos, 0.4):\n",
    "            ot_lateral[t.v0] += 0.1\n",
    "    fig = plt.figure()\n",
    "    ax = plt.axes(xlim=(0.7, 1.4), ylim=(-0.1, 1.1))\n",
    "    ax.plot([x/10.0 for x in range(8, 14)],list(ot_angle.values()))\n",
    "    ax.plot([x/10.0 for x in range(8, 14)],list(ot_lateral.values()))"
   ]
  },
  {
   "cell_type": "code",
   "execution_count": 7,
   "metadata": {},
   "outputs": [],
   "source": [
    "'''\n",
    "    Percent overtaking by speed difference by subject (12 plots). Overtaking is defined by the angle y axis and the line\n",
    "    connecting follower and leader greater than 55 degree. 55 is half of field of view in Odyssey HMD.\n",
    "'''\n",
    "threshold = np.cos(55 * np.pi / 180)\n",
    "for i, s in exp.subjects.items():\n",
    "    dvs = []\n",
    "    for j, t in s.trials.items():\n",
    "        lpos = t.get_positions('l')[-1, 0:2]\n",
    "        fpos = t.get_positions('f')[-1, 0:2]\n",
    "        vec1 = lpos - fpos\n",
    "        vec0 = [0, 1]\n",
    "        cos = np.dot(vec0, vec1)/np.linalg.norm(vec1)        \n",
    "        if cos <= threshold:\n",
    "            fspd = t.get_speeds('f')[t.f1]\n",
    "            dvs.append(fspd-t.v0)\n",
    "    fig = plt.figure()\n",
    "    ax = plt.axes()\n",
    "    ax.hist(dvs, 20)"
   ]
  },
  {
   "cell_type": "code",
   "execution_count": null,
   "metadata": {},
   "outputs": [],
   "source": [
    "'''Percent overtaking by leader (2 plots)'''\n"
   ]
  },
  {
   "cell_type": "code",
   "execution_count": 27,
   "metadata": {},
   "outputs": [
    {
     "name": "stdout",
     "output_type": "stream",
     "text": [
      "{1: 0.088, 2: 0.097, 3: 0.207, 4: 0.205, 5: 0.235, 6: 0.144, 7: 0.072, 8: 0.148, 9: 0.394, 10: 0.132, 11: 0.128, 12: 0.082}\n"
     ]
    }
   ],
   "source": [
    "'''lateral deviation in freewalk trials'''\n",
    "max_deviations = {}\n",
    "for i, s in exp.subjects.items():\n",
    "    max_deviation = 0\n",
    "    for j, t in s.freewalk.items():\n",
    "        _max = max(t.get_positions('f')[:, 0])\n",
    "        if _max > max_deviation:\n",
    "            max_deviation = _max\n",
    "    max_deviations[i] = round(max_deviation, 3)\n",
    "print(max_deviations)"
   ]
  }
 ],
 "metadata": {
  "kernelspec": {
   "display_name": "Python 3",
   "language": "python",
   "name": "python3"
  },
  "language_info": {
   "codemirror_mode": {
    "name": "ipython",
    "version": 3
   },
   "file_extension": ".py",
   "mimetype": "text/x-python",
   "name": "python",
   "nbconvert_exporter": "python",
   "pygments_lexer": "ipython3",
   "version": "3.6.8"
  }
 },
 "nbformat": 4,
 "nbformat_minor": 2
}
