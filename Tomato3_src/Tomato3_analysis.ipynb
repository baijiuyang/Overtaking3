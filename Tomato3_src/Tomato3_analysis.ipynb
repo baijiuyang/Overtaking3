{
 "cells": [
  {
   "cell_type": "code",
   "execution_count": 1,
   "metadata": {},
   "outputs": [],
   "source": [
    "import numpy as np\n",
    "import pandas as pd\n",
    "import os\n",
    "from matplotlib import animation\n",
    "from matplotlib import pyplot as plt\n",
    "from matplotlib import patches\n",
    "from matplotlib import cm\n",
    "import matplotlib as mpl\n",
    "from Tomato3_dataStructure import Trial, Subject, Experiment\n",
    "from helper import angle_overtake, lateral_overtake, overtake_rate, max_freewalk_spd, average_freewalk_spd\n"
   ]
  },
  {
   "cell_type": "code",
   "execution_count": 2,
   "metadata": {
    "scrolled": true
   },
   "outputs": [],
   "source": [
    "'''import trials'''\n",
    "Hz = 90\n",
    "exp = Experiment()\n",
    "for i in range(1,13):\n",
    "    exp.subjects[i] = Subject(i)\n",
    "    if i%2 == 0:\n",
    "        exp.subjects[i].leader = 'avatar'\n",
    "    else:\n",
    "        exp.subjects[i].leader = 'pole'\n",
    "    \n",
    "input_dir = os.path.abspath(os.path.join(os.getcwd(), os.pardir, 'Tomato3_rawData\\Tomato3_input'))\n",
    "output_dir = os.path.abspath(os.path.join(os.getcwd(), os.pardir, 'Tomato3_rawData\\Tomato3_output'))\n",
    "\n",
    "for output_file in os.listdir(output_dir):\n",
    "    output_file_path = os.path.join(output_dir, output_file)\n",
    "    # import experimental data\n",
    "    if  'Tomato3_subj' in output_file and '.csv' in output_file:\n",
    "        with open(output_file_path, 'r') as f:\n",
    "            df = pd.read_csv(f, header=None)\n",
    "            lpos = np.array(df.iloc[:, [0,2,1]])\n",
    "            fpos = np.array(df.iloc[:, [3,5,4]])\n",
    "            fori = np.array(df.iloc[:, 6:9])\n",
    "            tstamps = np.array(df.iloc[:, 9])\n",
    "            leader_model = np.array(df.iloc[:, 10])\n",
    "            subject_id = int(output_file[12:14])\n",
    "            trial_id = int(output_file[20:23])\n",
    "            v0 = float(output_file[27:30])\n",
    "            if output_file[-5] == 'e':\n",
    "                leader = 'pole'\n",
    "            elif output_file[-5] == 'r':\n",
    "                leader = 'avatar'\n",
    "            leader_onset = None\n",
    "            \n",
    "            exp.subjects[subject_id].trials[trial_id] = Trial(subject_id, trial_id, lpos, fpos, fori, \\\n",
    "                                                                tstamps, v0, leader, leader_onset, leader_model)           \n",
    "    # import IPD and gender data\n",
    "    elif 'IPD' in output_file:    \n",
    "        with open(output_file_path, 'r') as f:\n",
    "            subject_id = int(output_file[12:14])\n",
    "            exp.subjects[subject_id].gender == output_file[19]\n",
    "            i = output_file.find('txt')\n",
    "            exp.subjects[subject_id].IPD == float(output_file[20:i-1])\n",
    "    # import freewalk data\n",
    "    elif 'freewalk' in output_file:\n",
    "        with open(output_file_path, 'r') as f:\n",
    "            df = pd.read_csv(f, header=None)\n",
    "            subject_id = int(output_file[21:23])\n",
    "            session = int(output_file[-14])\n",
    "            trial_id = int(output_file[-7:-4])\n",
    "            v0 = 0\n",
    "            leader = leader_onset = leader_model= None\n",
    "            fpos = np.array(df.iloc[:,[0,2,1]])\n",
    "            lpos = np.tile([0,0,0], (len(fpos), 1))\n",
    "            fori = np.array(df.iloc[:,3:6])\n",
    "            tstamps = np.array(df.iloc[:,-1])\n",
    "            if session == 1:\n",
    "                exp.subjects[subject_id].freewalk[trial_id] = Trial(subject_id, trial_id, lpos, fpos, fori, \\\n",
    "                                                                    tstamps, v0, leader, leader_onset, leader_model)\n",
    "            else:\n",
    "                trial_id += 4\n",
    "                exp.subjects[subject_id].freewalk[trial_id] = Trial(subject_id, trial_id, lpos, fpos, fori, \\\n",
    "                                                                    tstamps, v0, leader, leader_onset, leader_model)\n",
    "# import inputs\n",
    "for input_file in os.listdir(input_dir):\n",
    "    if 'Tomato3_subject' in input_file:\n",
    "        subject_id = int(input_file[-6:-4])\n",
    "        if subject_id in exp.subjects and exp.subjects[subject_id].trials != {}:\n",
    "            # read experimental trials\n",
    "            with open(os.path.join(input_dir, input_file), 'r') as f:\n",
    "                df = pd.read_csv(f)\n",
    "                for i in range(len(df)):\n",
    "                    trial_id = df.iloc[i,0]\n",
    "                    leader_onset = df.iloc[i,4]\n",
    "                    exp.subjects[subject_id].trials[trial_id].leader_onset = leader_onset\n",
    " \n",
    "\n",
    "# with open(filename, 'r') as file:\n",
    "#     rows = file.read().split('\\n')[:-1]\n",
    "#     cells = [row.split(',') for row in rows]  \n",
    "#     cells = np.array([[float(s) for s in row] for row in cells])\n",
    "#     lpos = cells[:,[0,2,1]]\n",
    "#     fpos = cells[:,[3,5,4]]\n",
    "#     fori = cells[:,6:9]\n",
    "#     tstamps = cells[:,-1]\n",
    "\n"
   ]
  },
  {
   "cell_type": "code",
   "execution_count": 18,
   "metadata": {},
   "outputs": [
    {
     "name": "stdout",
     "output_type": "stream",
     "text": [
      "[0.17506318 0.17499085 0.17491986 0.17485023 0.17478193 0.17471498\n",
      " 0.17464935 0.17458505 0.17452207 0.1744604  0.17440002 0.17434092\n",
      " 0.1742831  0.17422654 0.17417121 0.17411712 0.17406423 0.17401254\n",
      " 0.17396202 0.17391265 0.17386442 0.17381729 0.17377126 0.17372628\n",
      " 0.17368235 0.17363944 0.17359752 0.17355656 0.17351655 0.17347744\n",
      " 0.17343923 0.17340187 0.17336535 0.17332963 0.17329469 0.1732605\n",
      " 0.17322703 0.17319425 0.17316213 0.17313065 0.17309978 0.17306949\n",
      " 0.17303975 0.17301053 0.17298181 0.17295357 0.17292576 0.17289837\n",
      " 0.17287138 0.17284475 0.17281846 0.17279248 0.1727668  0.17274139\n",
      " 0.17271622 0.17269128 0.17266653 0.17264197 0.17261757 0.17259331\n",
      " 0.17256916 0.17254513 0.17252117 0.17249728 0.17247344 0.17244964\n",
      " 0.17242586 0.17240208 0.17237829 0.17235449 0.17233064 0.17230675\n",
      " 0.17228281 0.17225879 0.1722347  0.17221052 0.17218624 0.17216186\n",
      " 0.17213736 0.17211275 0.172088   0.17206313 0.17203811 0.17201295\n",
      " 0.17198763 0.17196216 0.17193653 0.17191074 0.17188477 0.17185864\n",
      " 0.17183232 0.17180582 0.17177914 0.17175227 0.17172521 0.17169795\n",
      " 0.1716705  0.17164284 0.17161498 0.1715869  0.17155862 0.17153011\n",
      " 0.17150138 0.17147243 0.17144325 0.17141383 0.17138418 0.17135428\n",
      " 0.17132413 0.17129372 0.17126305 0.17123211 0.1712009  0.17116941\n",
      " 0.17113763 0.17110555 0.17107317 0.17104047 0.17100746 0.17097411\n",
      " 0.17094043 0.1709064  0.17087201 0.17083725 0.17080212 0.1707666\n",
      " 0.17073067 0.17069434 0.17065758 0.17062039 0.17058275 0.17054466\n",
      " 0.1705061  0.17046705 0.17042751 0.17038746 0.17034689 0.17030579\n",
      " 0.17026415 0.17022195 0.17017917 0.17013582 0.17009187 0.17004731\n",
      " 0.17000214 0.16995633 0.16990988 0.16986278 0.16981501 0.16976656\n",
      " 0.16971742 0.16966759 0.16961705 0.1695658  0.16951381 0.1694611\n",
      " 0.16940764 0.16935343 0.16929846 0.16924273 0.16918623 0.16912895\n",
      " 0.1690709  0.16901206 0.16895243 0.16889202 0.16883081 0.16876881\n",
      " 0.16870601 0.16864243 0.16857805 0.16851288 0.16844692 0.16838017\n",
      " 0.16831265 0.16824435 0.16817528 0.16810544 0.16803485 0.1679635 ]\n"
     ]
    }
   ],
   "source": [
    "'''debug'''\n",
    "%matplotlib qt\n",
    "subject = 12\n",
    "trial = 38\n",
    "for i, s in exp.subjects.items():\n",
    "    for j, t in s.trials.items():\n",
    "        if i == subject and j == trial:\n",
    "            print((t.get_positions('l')[540:720,1] - t.get_positions('f')[540:720,1])/10)\n"
   ]
  },
  {
   "cell_type": "code",
   "execution_count": 17,
   "metadata": {},
   "outputs": [],
   "source": [
    "'''Plot positions, speed, or acceleration of freewalk trials'''\n",
    "%matplotlib qt\n",
    "subject = 3\n",
    "for i, t in exp.subjects[subject].freewalk.items():\n",
    "    t.plot_speeds(distance=False)\n",
    "#     t.plot_positions('f')\n",
    "#     t.plot_accelerations()\n"
   ]
  },
  {
   "cell_type": "code",
   "execution_count": 3,
   "metadata": {},
   "outputs": [
    {
     "name": "stdout",
     "output_type": "stream",
     "text": [
      "0.27\n"
     ]
    }
   ],
   "source": [
    "'''plot positions or speed of experimental trials'''\n",
    "%matplotlib qt\n",
    "subject = [12]\n",
    "trials = [15]\n",
    "for i, s in exp.subjects.items():\n",
    "    for j, t in s.trials.items():\n",
    "        if i in subject and j in trials:\n",
    "            if t.v0 == 1.3:\n",
    "                fpos = t.get_positions('f')\n",
    "                fspd = t.get_speeds('f')\n",
    "                label = 'overtake' if lateral_overtake(fpos, fspd, t.v0, 0.3) else ''\n",
    "                print(round(max(abs(fpos[:,0])), 3))\n",
    "                t.plot_positions(accelerations=False, links=True, is_filtered=True)\n",
    "                t.plot_speeds()\n",
    "                t.plot_accelerations()\n",
    "                plt.text(0, 0, label)"
   ]
  },
  {
   "cell_type": "code",
   "execution_count": 7,
   "metadata": {
    "scrolled": true
   },
   "outputs": [
    {
     "data": {
      "text/plain": [
       "<matplotlib.animation.FuncAnimation at 0x20b38c2c860>"
      ]
     },
     "execution_count": 7,
     "metadata": {},
     "output_type": "execute_result"
    }
   ],
   "source": [
    "'''animation'''\n",
    "# compare trial 6 (catch up) and 5 (let it go)\n",
    "%matplotlib qt\n",
    "subject = 12\n",
    "trial = 38\n",
    "exp.subjects[subject].trials[trial].play_trial(save=False, is_filtered=False)"
   ]
  },
  {
   "cell_type": "code",
   "execution_count": 3,
   "metadata": {},
   "outputs": [
    {
     "name": "stdout",
     "output_type": "stream",
     "text": [
      "{1: 0.102, 2: 0.097, 3: 0.207, 4: 0.205, 5: 0.281, 6: 0.144, 7: 0.121, 8: 0.148, 9: 0.394, 10: 0.304, 11: 0.128, 12: 0.12}\n"
     ]
    }
   ],
   "source": [
    "'''lateral deviation in freewalk trials'''\n",
    "max_deviations = {}\n",
    "for i, s in exp.subjects.items():\n",
    "    max_deviation = 0\n",
    "    for j, t in s.freewalk.items():\n",
    "        _max = max(abs(t.get_positions('f')[:, 0]))\n",
    "        if _max > max_deviation:\n",
    "            max_deviation = _max\n",
    "    max_deviations[i] = round(max_deviation, 3)\n",
    "print(max_deviations)"
   ]
  },
  {
   "cell_type": "code",
   "execution_count": 5,
   "metadata": {},
   "outputs": [],
   "source": [
    "'''\n",
    "    Overtake rate by v0 by subject (12 plots). Overtaking is defined by angle \n",
    "    and lateral deviation criteria.\n",
    "'''\n",
    "%matplotlib qt\n",
    "for i, s in exp.subjects.items():\n",
    "    ot_angle = {0.8:0, 0.9:0, 1.0:0, 1.1:0, 1.2:0, 1.3:0}\n",
    "    ot_lateral = {0.8:0, 0.9:0, 1.0:0, 1.1:0, 1.2:0, 1.3:0}\n",
    "\n",
    "    for j, t in s.trials.items():\n",
    "        lpos = t.get_positions('l')\n",
    "        fpos = t.get_positions('f')\n",
    "        fspd = t.get_speeds('f')\n",
    "        if angle_overtake(lpos, fpos, 55):\n",
    "            ot_angle[t.v0] += 0.1\n",
    "        if lateral_overtake(fpos, fspd, t.v0, 0.3):\n",
    "            ot_lateral[t.v0] += 0.1\n",
    "    fig = plt.figure()\n",
    "    ax = plt.axes(xlim=(0.7, 1.4), ylim=(-0.1, 1.1))\n",
    "    ax.plot(list(ot_angle.keys()),list(ot_angle.values()))\n",
    "    ax.plot(list(ot_lateral.keys()),list(ot_lateral.values()))\n",
    "    plt.title('subject ' + str(i))"
   ]
  },
  {
   "cell_type": "code",
   "execution_count": 14,
   "metadata": {},
   "outputs": [],
   "source": [
    "'''\n",
    "    Overtake rate by speed difference by subject (12 plots). Overtaking is \n",
    "    defined by the angle y axis and the line connecting follower and leader \n",
    "    greater than 55 degree. 55 is half of field of view in Odyssey HMD.\n",
    "'''\n",
    "threshold = np.cos(55 * np.pi / 180)\n",
    "for i, s in exp.subjects.items():\n",
    "    dvs = []\n",
    "    for j, t in s.trials.items():\n",
    "        lpos = t.get_positions('l')[-1, 0:2]\n",
    "        fpos = t.get_positions('f')[-1, 0:2]\n",
    "        vec1 = lpos - fpos\n",
    "        vec0 = [0, 1]\n",
    "        cos = np.dot(vec0, vec1)/np.linalg.norm(vec1)\n",
    "        if cos <= threshold:\n",
    "            fspd = t.get_speeds('f')[t.f1]\n",
    "            dvs.append(fspd-t.v0)\n",
    "    fig = plt.figure()\n",
    "    ax = plt.axes()\n",
    "    ax.hist(dvs, 5)"
   ]
  },
  {
   "cell_type": "code",
   "execution_count": 3,
   "metadata": {},
   "outputs": [],
   "source": [
    "'''\n",
    "    Overtake rate by v0/fspd_max or fspd_max - v0 by subject (12 plots). \n",
    "    Overtaking is defined by lateral deviation and speed criteria.\n",
    "'''\n",
    "%matplotlib qt\n",
    "##########control panel###############\n",
    "x_axis = 'ratio'\n",
    "p_fspd_type = 'max' # 'max' or 'mean'\n",
    "window = 2 # time window used for compute the mean speed\n",
    "######################################\n",
    "for i, s in exp.subjects.items():\n",
    "\n",
    "    # get speed scaler\n",
    "    if p_fspd_type == 'max':\n",
    "        p_fspd = max_freewalk_spd(s)\n",
    "    elif p_fspd_type == 'mean':\n",
    "        p_fspd = average_freewalk_spd(s, window)\n",
    "    \n",
    "    # compute overtake rate\n",
    "    rate = overtake_rate(s, 0.3)\n",
    "    \n",
    "    # plot overtake rate by scaled speed\n",
    "    fig = plt.figure()\n",
    "    plt.title('subject ' + str(i))\n",
    "    if x_axis == 'ratio':\n",
    "        ax = plt.axes(xlim=(0.4, 1), ylim=(-0.1, 1.1))\n",
    "        ax.plot([x/10.0/p_fspd for x in range(8, 14)],list(rate.values()))\n",
    "        ax.plot([0.4, 1],[0.5, 0.5])\n",
    "    elif x_axis == 'diff':\n",
    "        ax = plt.axes(xlim=(0, 0.5), ylim=(-0.1, 1.1))\n",
    "        ax.plot([p_fspd - x/10.0 for x in range(8, 14)],list(rate.values()))\n",
    "        ax.plot([0, 0.5],[0.5, 0.5])\n",
    "        \n",
    "    "
   ]
  },
  {
   "cell_type": "code",
   "execution_count": 4,
   "metadata": {},
   "outputs": [
    {
     "data": {
      "text/plain": [
       "<matplotlib.legend.Legend at 0x26fb3e43828>"
      ]
     },
     "execution_count": 4,
     "metadata": {},
     "output_type": "execute_result"
    }
   ],
   "source": [
    "'''Compare Overtake rate on pole and avatar'''\n",
    "%matplotlib qt\n",
    "fig = plt.figure()\n",
    "ax = plt.axes(xlim=(0.4, 1), ylim=(-0.1, 1.1))\n",
    "ax.plot([0.4, 1],[0.5, 0.5], 'k')\n",
    "for i, s in exp.subjects.items():\n",
    "    \n",
    "    # compute the speed scaler\n",
    "    max_fspd = max_freewalk_spd(s)\n",
    "    \n",
    "    # compute overtake rate\n",
    "    count = overtake_rate(s, 0.3)\n",
    "    \n",
    "    # plot overtake rate by scaled speed\n",
    "    if s.leader == 'pole':\n",
    "        pole = ax.plot([x/10.0/max_fspd for x in range(8, 14)],list(count.values()), 'b')\n",
    "    elif s.leader == 'avatar':\n",
    "        avatar = ax.plot([x/10.0/max_fspd for x in range(8, 14)],list(count.values()), 'r')\n",
    "ax.legend((pole[0],avatar[0]), ('pole', 'avatar'))"
   ]
  }
 ],
 "metadata": {
  "kernelspec": {
   "display_name": "overtaking",
   "language": "python",
   "name": "overtaking"
  },
  "language_info": {
   "codemirror_mode": {
    "name": "ipython",
    "version": 3
   },
   "file_extension": ".py",
   "mimetype": "text/x-python",
   "name": "python",
   "nbconvert_exporter": "python",
   "pygments_lexer": "ipython3",
   "version": "3.6.9"
  }
 },
 "nbformat": 4,
 "nbformat_minor": 2
}
