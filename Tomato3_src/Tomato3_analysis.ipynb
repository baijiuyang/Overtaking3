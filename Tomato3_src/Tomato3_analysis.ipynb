{
 "cells": [
  {
   "cell_type": "code",
   "execution_count": 1,
   "metadata": {
    "scrolled": true
   },
   "outputs": [],
   "source": [
    "import numpy as np\n",
    "import pandas as pd\n",
    "import pickle\n",
    "from matplotlib import animation, patches, cm, rc\n",
    "from matplotlib import pyplot as plt\n",
    "from Tomato3_dataStructure import Trial, Subject, Experiment\n",
    "from Tomato3_helper import angle_overtake, lateral_overtake, overtake_rates, max_freewalk_spd, \\\n",
    "                            average_freewalk_spd, average_onset_spds, expansion_at, average_expansions, \\\n",
    "                            overtake_onset, time_to_pass, valid_trial, average_onset_delays\n",
    "from helper import max_average, expansions, running_average\n",
    "%matplotlib qt\n",
    "rc('font', size=14)\n",
    "# load data from binary file\n",
    "with open('Tomato3_data.pickle', 'rb') as file:\n",
    "    exp = pickle.load(file)\n"
   ]
  },
  {
   "cell_type": "markdown",
   "metadata": {},
   "source": [
    "# Position, speed, accleration\n",
    "## Experimental trials"
   ]
  },
  {
   "cell_type": "code",
   "execution_count": 3,
   "metadata": {
    "scrolled": true
   },
   "outputs": [
    {
     "data": {
      "text/plain": [
       "<matplotlib.animation.FuncAnimation at 0x165f1776f28>"
      ]
     },
     "execution_count": 3,
     "metadata": {},
     "output_type": "execute_result"
    }
   ],
   "source": [
    "'''animation'''\n",
    "%matplotlib qt\n",
    "subject = 10\n",
    "trial = 38\n",
    "exp.subjects[subject].trials[trial].play_trial(save=False, filtered=False)"
   ]
  },
  {
   "cell_type": "code",
   "execution_count": 4,
   "metadata": {},
   "outputs": [],
   "source": [
    "'''plot trajectories, speeds, or accelerations of experimental trials'''\n",
    "%matplotlib qt\n",
    "frames = None\n",
    "subject = [2]\n",
    "trials = range(1,61)\n",
    "filtered = True\n",
    "for i, s in exp.subjects.items():\n",
    "    for j, t in s.trials.items():\n",
    "        if i in subject and j in trials:\n",
    "            if t.v0 == 1.2 and valid_trial(t):\n",
    "#                 frames = list(range(t.f1, len(t.tstamps)))\n",
    "                t.plot_trajectory(frames=frames, accelerations=False, links=True, filtered=filtered)\n",
    "#                 t.plot_speeds(frames=frames, component='y', filtered=filtered)\n",
    "#                 t.plot_accelerations(frames=frames, component='')\n",
    "                label = 'overtake' if lateral_overtake(t, 0.2) else ''\n",
    "                plt.text(0, 0, label) # overtake label"
   ]
  },
  {
   "cell_type": "code",
   "execution_count": 2,
   "metadata": {},
   "outputs": [],
   "source": [
    "'''Plot all trajectories'''\n",
    "%matplotlib qt\n",
    "for i, s in exp.subjects.items():\n",
    "    fig = plt.figure(figsize=(10, 8))\n",
    "    fig.suptitle('subject ' + str(i))\n",
    "    ax = []\n",
    "    for i in range(6):\n",
    "        ax.append(fig.add_subplot(2, 3, i+1))\n",
    "        ax[i].set_xlim(-3, 3)\n",
    "        ax[i].set_ylim(-1, 15)\n",
    "        ax[i].set_title('v0 = ' + str((i + 8) / 10) + ' m/s')\n",
    "    for j, t in s.trials.items():\n",
    "        if valid_trial(t):\n",
    "            lpos = t.get_positions('l')\n",
    "            fpos = t.get_positions('f')\n",
    "            i_ot = overtake_onset(t)\n",
    "            i_ax = int(t.v0 * 10 - 8)\n",
    "            overtake = lateral_overtake(t)\n",
    "            color = 'r' if overtake else 'b'\n",
    "            ax[i_ax].plot(lpos[t.f1:, 0], lpos[t.f1:, 1], c='k')\n",
    "            ax[i_ax].plot(fpos[:, 0], fpos[:, 1], c=color)\n",
    "            if overtake:\n",
    "                ax[i_ax].scatter(fpos[i_ot, 0], fpos[i_ot, 1], c='r')"
   ]
  },
  {
   "cell_type": "markdown",
   "metadata": {},
   "source": [
    "## Freewalk trials"
   ]
  },
  {
   "cell_type": "code",
   "execution_count": 2,
   "metadata": {},
   "outputs": [],
   "source": [
    "'''Plot positions, speed, or acceleration of freewalk trials'''\n",
    "%matplotlib qt\n",
    "subject = 1\n",
    "for i, t in exp.subjects[subject].freewalk.items():\n",
    "    t.plot_speeds(distance=False)\n",
    "#     t.plot_trajectory('f')\n",
    "#     t.plot_accelerations()\n"
   ]
  },
  {
   "cell_type": "code",
   "execution_count": 5,
   "metadata": {},
   "outputs": [],
   "source": [
    "'''average speed of freewalk trials using different window sizes'''\n",
    "%matplotlib qt\n",
    "\n",
    "for i, s in exp.subjects.items():\n",
    "    fig = plt.figure(figsize=(12, 8))\n",
    "    fig.suptitle('subject ' + str(i))\n",
    "    ax = []\n",
    "    for i in range(8):\n",
    "        ax.append(fig.add_subplot(2, 4, i + 1))\n",
    "#         ax[i].set_xlim(-3, 3)\n",
    "        ax[i].set_ylim(1.0, 1.6)\n",
    "    for j, t in s.freewalk.items():\n",
    "        fspd = t.get_speeds('f')\n",
    "        max_means = []\n",
    "        for w in range(1, 10 * t.Hz + 1, t.Hz):\n",
    "            max_means.append(max_average(fspd, w))\n",
    "        ax[j-1].set_title('trial ' + str(j))\n",
    "        ax[j-1].scatter(np.arange(1, 10 * t.Hz + 1, t.Hz) * 1.0 / t.Hz, max_means)\n",
    "        "
   ]
  },
  {
   "cell_type": "code",
   "execution_count": 13,
   "metadata": {},
   "outputs": [],
   "source": [
    "'''plot freewalk max_mean speed'''\n",
    "%matplotlib qt\n",
    "fig0 = plt.figure()\n",
    "ax0 = fig0.add_axes(plt.axes())\n",
    "ax0.set_xlim(0, 9)\n",
    "ax0.set_ylim(0.8, 1.6)\n",
    "ax0.plot([4.5, 4.5], [0.8, 1.6])\n",
    "\n",
    "for i, s in exp.subjects.items():\n",
    "    fig = plt.figure()\n",
    "    ax = fig.add_axes(plt.axes())\n",
    "    ax.set_xlim(0, 9)\n",
    "    ax.set_ylim(0.8, 1.6)\n",
    "    x = []\n",
    "    y = []\n",
    "    for j, t in s.freewalk.items():\n",
    "        x.append(j)\n",
    "        y.append(max_average(t.get_speeds('f'), 5 * t.Hz))\n",
    "    ax.scatter(x, y)\n",
    "    ax0.scatter(x, y)\n",
    "    ax.plot([4.5, 4.5], [0.8, 1.6])\n",
    "    "
   ]
  },
  {
   "cell_type": "code",
   "execution_count": 5,
   "metadata": {},
   "outputs": [
    {
     "name": "stdout",
     "output_type": "stream",
     "text": [
      "{1: 0.102, 2: 0.097, 3: 0.207, 4: 0.205, 5: 0.281, 6: 0.144, 7: 0.121, 8: 0.148, 9: 0.394, 10: 0.304, 11: 0.128, 12: 0.12}\n"
     ]
    }
   ],
   "source": [
    "'''lateral deviation in freewalk trials'''\n",
    "max_deviations = {}\n",
    "for i, s in exp.subjects.items():\n",
    "    max_deviation = 0\n",
    "    for j, t in s.freewalk.items():\n",
    "        _max = max(abs(t.get_positions('f')[:, 0]))\n",
    "        if _max > max_deviation:\n",
    "            max_deviation = _max\n",
    "    max_deviations[i] = round(max_deviation, 3)\n",
    "print(max_deviations)"
   ]
  },
  {
   "cell_type": "markdown",
   "metadata": {},
   "source": [
    "# Plot expansion and ttp"
   ]
  },
  {
   "cell_type": "code",
   "execution_count": 2,
   "metadata": {},
   "outputs": [],
   "source": [
    "'''plot time to pass over time'''\n",
    "%matplotlib qt\n",
    "frames = None\n",
    "subject = [2]\n",
    "trials = range(1, 61)\n",
    "filtered=True\n",
    "for i, s in exp.subjects.items():\n",
    "    for j, t in s.trials.items():\n",
    "        if i in subject and j in trials:\n",
    "            if t.v0 in [1.1] and lateral_overtake(t, 0.2):\n",
    "#                 frames = list(range(t.f1, len(t.tstamps)))\n",
    "                fig = plt.figure()\n",
    "                ax = plt.axes(xlim=(0, 12), ylim=(-1, 15))\n",
    "                ttps = time_to_pass(t)\n",
    "                ax.plot(t.tstamps_smooth, ttps)\n",
    "                label = 'overtake' if lateral_overtake(t, 0.2) else ''\n",
    "                ax.text(0, 0, label) # overtake label\n",
    "                o = overtake_onset(t, tolerance=0.02)\n",
    "                ax.scatter(t.get_time(filtered)[o], ttps[o], edgecolors='r', facecolors='none') # onset of overtaking"
   ]
  },
  {
   "cell_type": "code",
   "execution_count": null,
   "metadata": {},
   "outputs": [],
   "source": [
    "'''plot expansion over time'''\n",
    "\n",
    "\n"
   ]
  },
  {
   "cell_type": "markdown",
   "metadata": {},
   "source": [
    "# Overtaking frequency"
   ]
  },
  {
   "cell_type": "code",
   "execution_count": 4,
   "metadata": {},
   "outputs": [
    {
     "data": {
      "text/plain": [
       "<matplotlib.legend.Legend at 0x1de5fd9d0f0>"
      ]
     },
     "execution_count": 4,
     "metadata": {},
     "output_type": "execute_result"
    }
   ],
   "source": [
    "'''Compare Overtake rate on pole and avatar'''\n",
    "\n",
    "##########control panel###############\n",
    "x_value = 'ratio' # 'leader', 'ratio', 'diff' or 'exp'\n",
    "p_fspd_type = 'mean' # 'max', 'mean' or 'onset'\n",
    "window = 2 # time window used for compute the mean speed\n",
    "######################################\n",
    "%matplotlib qt\n",
    "# set the range of x axis\n",
    "if x_value == 'ratio': xrange = (0.4, 1.2)\n",
    "elif x_value == 'diff': xrange = (-0.2, 0.8)\n",
    "elif x_value == 'exp': xrange = (0.1, 0.5)\n",
    "elif x_value == 'leader': xrange = (0.7, 1.4)\n",
    "\n",
    "\n",
    "# build figure for all in one plot\n",
    "fig_all = plt.figure()\n",
    "ax = plt.axes(xlim=xrange, ylim=(-0.1, 1.1))\n",
    "ax.plot(xrange,[0.5, 0.5], 'k')\n",
    "ax.set_ylabel('Probability of overtaking')\n",
    "ax.set_xlabel('leader speed / fmean')\n",
    "ax.set_title('All subjects')\n",
    "\n",
    "for i, s in exp.subjects.items():\n",
    "    \n",
    "    # get speed scaler\n",
    "    if p_fspd_type == 'max':\n",
    "        p_fspd = max_freewalk_spd(s)\n",
    "        p_fspd = [p_fspd] * 6\n",
    "    elif p_fspd_type == 'mean':\n",
    "        p_fspd = average_freewalk_spd(s, window)\n",
    "        p_fspd = [p_fspd] * 6\n",
    "    elif p_fspd_type == 'onset':\n",
    "        p_fspd = average_onset_spds(s)\n",
    "    \n",
    "    # compute overtake rate\n",
    "    rate = overtake_rates(s)\n",
    "    \n",
    "    # prepare x values and line color\n",
    "    color = 'b' if s.leader == 'pole' else 'r'\n",
    "    if x_value == 'ratio':\n",
    "        x = [a / 10.0 / b for a, b in zip(range(8, 14), p_fspd)]\n",
    "    elif x_value == 'diff':\n",
    "        x = [b - a / 10.0 for a, b in zip(range(8, 14), p_fspd)]\n",
    "    elif x_value == 'exp':\n",
    "        x = average_expansions(s, relative=False)\n",
    "    elif x_value == 'leader':\n",
    "        x = [(a + 8) / 10 for a in range(6)]\n",
    "        \n",
    "    # plot overtake rate by scaled speed on all in one plot\n",
    "    if s.leader == 'pole':\n",
    "        pole = fig_all.axes[0].plot(x, list(rate.values()), c=color)\n",
    "    elif s.leader == 'avatar':\n",
    "        avatar = fig_all.axes[0].plot(x, list(rate.values()), c=color)\n",
    "    \n",
    "    # build figure for separate plots\n",
    "    fig = plt.figure()\n",
    "    ax = plt.axes(xlim=xrange, ylim=(-0.1, 1.1))\n",
    "    ax.set_ylabel('Probability of overtaking')\n",
    "    ax.set_xlabel(x_value + ' between ' + p_fspd_type + ' follower speed and leader speed')\n",
    "    ax.set_title('subject ' + str(i))\n",
    "    \n",
    "    # plot overtake rate by scaled speed on separate plot\n",
    "    ax.plot(x, list(rate.values()))\n",
    "    ax.plot(xrange, [0.5, 0.5], 'k')\n",
    "    \n",
    "fig_all.axes[0].legend((pole[0],avatar[0]), ('pole', 'avatar'))"
   ]
  },
  {
   "cell_type": "code",
   "execution_count": 18,
   "metadata": {},
   "outputs": [],
   "source": [
    "'''\n",
    "Overtake rate by v0 by subject (12 plots). Overtaking is defined by angle \n",
    "and lateral deviation criteria.\n",
    "'''\n",
    "for i, s in exp.subjects.items():\n",
    "    ot_angle = {0.8:0, 0.9:0, 1.0:0, 1.1:0, 1.2:0, 1.3:0}\n",
    "    ot_lateral = {0.8:0, 0.9:0, 1.0:0, 1.1:0, 1.2:0, 1.3:0}\n",
    "\n",
    "    for j, t in s.trials.items():\n",
    "        if angle_overtake(t, 55):\n",
    "            ot_angle[t.v0] += 0.1\n",
    "        if lateral_overtake(t, 0.3):\n",
    "            ot_lateral[t.v0] += 0.1\n",
    "    fig = plt.figure()\n",
    "    ax = plt.axes(xlim=(0.7, 1.4), ylim=(-0.1, 1.1))\n",
    "    ax.plot(list(ot_angle.keys()),list(ot_angle.values()))\n",
    "    ax.plot(list(ot_lateral.keys()),list(ot_lateral.values()))\n",
    "    plt.title('subject ' + str(i))"
   ]
  },
  {
   "cell_type": "markdown",
   "metadata": {},
   "source": [
    "# Onset of overtaking"
   ]
  },
  {
   "cell_type": "code",
   "execution_count": 3,
   "metadata": {},
   "outputs": [],
   "source": [
    "'''onset of overtaking on lateral positions plot'''\n",
    "%matplotlib qt\n",
    "frames = None\n",
    "subject = [5]\n",
    "trials = [8]\n",
    "filtered=True\n",
    "for i, s in exp.subjects.items():\n",
    "    for j, t in s.trials.items():\n",
    "        if i in subject and j in trials:\n",
    "            if t.v0 >0 and valid_trial(t):\n",
    "#                 frames = list(range(t.f1, len(t.tstamps)))\n",
    "                t.plot_positions(frames=frames, component='x', filtered=filtered)\n",
    "                label = 'overtake' if lateral_overtake(t, 0.2) else ''\n",
    "                plt.text(0, 0, label) # overtake label\n",
    "                plt.plot([0, 12], [0, 0], 'r') # zero line\n",
    "                plt.plot([t.tstamps_smooth[t.f1], t.tstamps_smooth[t.f1]], [-2, 2], 'k') # leader appear\n",
    "                o = overtake_onset(t, tolerance=0.02)\n",
    "                fpos_x = t.get_positions('f')[:, 0]\n",
    "                plt.scatter(t.get_time(filtered)[o], fpos_x[o], edgecolors='r', facecolors='none') # onset of overtaking"
   ]
  },
  {
   "cell_type": "code",
   "execution_count": 8,
   "metadata": {},
   "outputs": [],
   "source": [
    "'''onset of overtaking on lateral speed plot'''\n",
    "%matplotlib qt\n",
    "frames = None\n",
    "subject = [12]\n",
    "trials = range(1,61)\n",
    "filtered=True\n",
    "for i, s in exp.subjects.items():\n",
    "    for j, t in s.trials.items():\n",
    "        if i in subject and j in trials:\n",
    "            if t.v0 == 1.3 and valid_trial(t):\n",
    "#                 frames = list(range(t.f1, len(t.tstamps)))\n",
    "                t.plot_speeds(frames=frames, component='x', filtered=filtered)\n",
    "                label = 'overtake' if lateral_overtake(t, 0.2) else ''\n",
    "                plt.text(0, 0, label) # overtake label\n",
    "                fspd_x = t.get_velocities('f')[:, 0]\n",
    "                plt.plot(t.tstamps_smooth, running_average(fspd_x), 'g', label='running average') # running average\n",
    "                plt.plot([0, 12], [0, 0], 'r', label='zero') # zero line\n",
    "                plt.plot([t.tstamps_smooth[t.f1], t.tstamps_smooth[t.f1]], [-1, 1], 'k') # leader appear\n",
    "                plt.legend()\n",
    "                o = overtake_onset(t, tolerance=0.02)\n",
    "                fvel_x = t.get_velocities('f')[:, 0]\n",
    "                plt.scatter(t.tstamps_smooth[o], fvel_x[o], edgecolors='r', facecolors='none') # onset of overtaking"
   ]
  },
  {
   "cell_type": "code",
   "execution_count": 15,
   "metadata": {},
   "outputs": [
    {
     "name": "stdout",
     "output_type": "stream",
     "text": [
      "0.5444444444444444\n",
      "1.4241532130421033\n"
     ]
    }
   ],
   "source": [
    "'''Plot overtake onset'''\n",
    "%matplotlib qt\n",
    "onset = []\n",
    "for i, s in exp.subjects.items():\n",
    "    if i not in [5,  9]:\n",
    "        for j, t in s.trials.items():\n",
    "            if valid_trial(t) and lateral_overtake(t):\n",
    "                _onset = (overtake_onset(t) - t.f1) / 90.0\n",
    "                onset.append(_onset)\n",
    "\n",
    "plt.scatter(np.random.normal(1, 0.04, size=len(onset)), onset)\n",
    "print(onset[len(onset)//2])\n",
    "print(sum(onset) / len(onset))\n",
    "#         if abs(deviation) >= 0.2:\n",
    "#             print('subject ', s.id, ' trial ', t.trial_id, ' deviation ', round(deviation, 2))\n"
   ]
  },
  {
   "cell_type": "markdown",
   "metadata": {},
   "source": [
    "# Overtaking vs following"
   ]
  },
  {
   "cell_type": "code",
   "execution_count": 6,
   "metadata": {},
   "outputs": [],
   "source": [
    "'''\n",
    "Compare overtaking and following trials on fspd and fspd/max_fspd \n",
    "when leader appear.\n",
    "'''\n",
    "########Control Panel######\n",
    "relative = False\n",
    "difference = False\n",
    "##########################\n",
    "\n",
    "\n",
    "data = {0.8:[[],[]], 0.9:[[],[]], 1.0:[[],[]], 1.1:[[],[]], 1.2:[[],[]], 1.3:[[],[]]}\n",
    "\n",
    "for i, s in exp.subjects.items():\n",
    "    max_fspd = max_freewalk_spd(s)\n",
    "    for j, t in s.trials.items():\n",
    "        fspd = t.get_speeds('f')[t.f1]\n",
    "        if difference:\n",
    "            fspd -= t.v0\n",
    "        if relative:\n",
    "            fspd /= max_fspd\n",
    "        if lateral_overtake(t):\n",
    "            data[t.v0][1].append(fspd)\n",
    "        else:\n",
    "            data[t.v0][0].append(fspd)\n",
    "            \n",
    "for v0, fspd in data.items():\n",
    "    # creat figure\n",
    "    fig = plt.figure()\n",
    "    if relative and difference:\n",
    "        ax = plt.axes(ylim=(-0.5, 0.6))\n",
    "    elif relative:\n",
    "        ax = plt.axes(ylim=(0.3, 1.2))\n",
    "    elif difference:\n",
    "        ax = plt.axes(ylim=(-0.5, 0.9))\n",
    "    else:\n",
    "        ax = plt.axes(ylim=(0.5, 1.7))\n",
    "    ax.set_title('leader speed = {}'.format(v0))\n",
    "    ax.set_xticklabels(['follow', 'overtake'])\n",
    "    ax.set_ylabel('follower speed when leader appears')\n",
    "    \n",
    "    # make boxplot\n",
    "    ax.boxplot(fspd)\n",
    "    \n",
    "    # mark leader speed\n",
    "    if not relative and not difference:\n",
    "        ax.plot([0.5, 2.5], [v0, v0])\n",
    "\n",
    "    # add scatter points on top of boxplot\n",
    "    for i in [1,2]:\n",
    "        x = np.random.normal(i, 0.04, size=len(fspd[i-1]))\n",
    "        ax.plot(x, fspd[i-1], 'r.', alpha=0.2)\n"
   ]
  },
  {
   "cell_type": "code",
   "execution_count": 15,
   "metadata": {},
   "outputs": [],
   "source": [
    "''' Compare overtaking and following trials on expansion '''\n",
    "data = [[], []]\n",
    "for i, s in exp.subjects.items():\n",
    "    for j, t in s.trials.items():\n",
    "        if valid_trial(t):\n",
    "            overtake = lateral_overtake(t)\n",
    "            if overtake:\n",
    "                idx = overtake_onset(t)\n",
    "            else:\n",
    "                idx = idx = t.f1 + int(1.44 * t.Hz) \n",
    "            e = expansion_at(t, relative=True, frame=idx)\n",
    "            if overtake:\n",
    "                data[1].append(e)\n",
    "            else:\n",
    "                data[0].append(e)\n",
    "\n",
    "fig = plt.figure()\n",
    "ax = plt.axes()\n",
    "ax.set_xticklabels(['follow', 'overtake'])\n",
    "ax.set_ylabel('relative rate of expansion at the onset of overtaking')\n",
    "\n",
    "# make boxplot\n",
    "ax.boxplot(data)\n",
    "\n",
    "# add scatter points on top of boxplot\n",
    "for i in [1,2]:\n",
    "    x = np.random.normal(i, 0.04, size=len(data[i-1]))\n",
    "    ax.plot(x, data[i-1], 'r.', alpha=0.2)"
   ]
  },
  {
   "cell_type": "code",
   "execution_count": 3,
   "metadata": {},
   "outputs": [],
   "source": [
    "''' Compare overtaking and following trials on speed trajectories '''\n",
    "subject = range(1,13)\n",
    "duration = 2 # seconds after leader appear\n",
    "for i, s in exp.subjects.items():\n",
    "    if i in subject:\n",
    "        fig = plt.figure(figsize=(10, 8))\n",
    "        fig.suptitle('subject ' + str(i))\n",
    "        ax = []\n",
    "        for j in range(6):\n",
    "            ax.append(fig.add_subplot(2, 3, j+1))\n",
    "            ax[j].set_xlim(-1, duration + 1)\n",
    "            ax[j].set_ylim(0.5, 2)\n",
    "            ax[j].set_title('v0 = ' + str((j + 8) / 10) + ' m/s')\n",
    "        for j, t in s.trials.items():\n",
    "            if valid_trial(t):\n",
    "                overtake = lateral_overtake(t)\n",
    "                fspd_y = t.get_velocities('f')[:, 1]\n",
    "    #             fspd = t.get_speeds('f')\n",
    "                color = 'r' if overtake else 'b'\n",
    "                ax[int(t.v0 * 10 - 8)].plot([a / t.Hz for a in range(duration * t.Hz)], fspd_y[t.f1:t.f1 + duration * t.Hz], c=color)\n",
    "                if overtake:\n",
    "                    ax[int(t.v0 * 10 - 8)].scatter((overtake_onset(t) - t.f1) / t.Hz, fspd_y[overtake_onset(t)], marker='o', c='r')"
   ]
  },
  {
   "cell_type": "markdown",
   "metadata": {},
   "source": [
    "# Write to CSV file"
   ]
  },
  {
   "cell_type": "code",
   "execution_count": 6,
   "metadata": {},
   "outputs": [
    {
     "name": "stdout",
     "output_type": "stream",
     "text": [
      "{0.8: 128, 0.9: 203, 1.0: 261, 1.1: 253, 1.2: 253, 1.3: 253}\n",
      "{0.8: 58, 0.9: 57, 1.0: 80, 1.1: 167, 1.2: 192, 1.3: 192}\n",
      "{0.8: 120, 0.9: 140, 1.0: 196, 1.1: 299, 1.2: 299, 1.3: 299}\n",
      "{0.8: 177, 0.9: 250, 1.0: 250, 1.1: 250, 1.2: 250, 1.3: 250}\n",
      "{0.8: 77, 0.9: 81, 1.0: 96, 1.1: 31, 1.2: 31, 1.3: 31}\n",
      "{0.8: 90, 0.9: 124, 1.0: 81, 1.1: 205, 1.2: 205, 1.3: 205}\n",
      "{0.8: 88, 0.9: 91, 1.0: 115, 1.1: 118, 1.2: 233, 1.3: 233}\n",
      "{0.8: 102, 0.9: 133, 1.0: 105, 1.1: 87, 1.2: 133, 1.3: 133}\n",
      "{0.8: 83, 0.9: 93, 1.0: 165, 1.1: 220, 1.2: 124, 1.3: 124}\n",
      "{0.8: 66, 0.9: 65, 1.0: 82, 1.1: 69, 1.2: 184, 1.3: 158}\n"
     ]
    }
   ],
   "source": [
    "'''write data to file'''\n",
    "data = []\n",
    "for i, s in exp.subjects.items():\n",
    "    if i not in [5, 9]:\n",
    "        fmax = max_freewalk_spd(s)\n",
    "        fmean = average_freewalk_spd(s, 2)\n",
    "        delays = average_onset_delays(s)\n",
    "        print(delays)\n",
    "        for j, t in s.trials.items():\n",
    "            if valid_trial(t):\n",
    "                overtake = lateral_overtake(t)\n",
    "                lspd = t.v0\n",
    "                if overtake:\n",
    "                    idx = overtake_onset(t)\n",
    "                else:\n",
    "                    idx = t.f1 + delays[lspd]\n",
    "                    idx2 = t.f1 + int(1.43 * t.Hz)\n",
    "                fspd = t.get_speeds('f')\n",
    "                fspd_s = fspd[idx]\n",
    "                fspd0 = fspd[t.f1]\n",
    "                fspd_c = fspd[idx2]\n",
    "                dist_vec = t.get_positions('l')[idx] - t.get_positions('f')[idx]\n",
    "                dist_y = dist_vec[1]\n",
    "                dist = np.linalg.norm(dist_vec)\n",
    "                ttp = time_to_pass(t)[idx]\n",
    "                e = expansion_at(t, relative=False, frame=idx)\n",
    "                e2 = expansion_at(t, relative=True, frame=idx)\n",
    "                data.append([i, j,\n",
    "                             lspd, fspd0, fmax, fmean, fspd_c, fspd_s,\n",
    "                             dist, dist_y, ttp, e, e2,\n",
    "                             int(overtake)])\n",
    "\n",
    "df = pd.DataFrame(data, columns=['subj', 'trial',\n",
    "                                   'lspd', 'fspd0', 'fmax', 'fmean', 'fspd_c', 'fspd_s', \n",
    "                                   'dist', 'dist_y', 'ttp', 'e', 'e2',\n",
    "                                   'overtaking'])\n",
    "df.to_csv(path_or_buf='overtaking.csv', index=False)\n",
    "\n"
   ]
  },
  {
   "cell_type": "code",
   "execution_count": 13,
   "metadata": {},
   "outputs": [
    {
     "name": "stdout",
     "output_type": "stream",
     "text": [
      "Optimization terminated successfully.\n",
      "         Current function value: 0.260667\n",
      "         Iterations 8\n"
     ]
    },
    {
     "data": {
      "text/html": [
       "<table class=\"simpletable\">\n",
       "<caption>Logit Regression Results</caption>\n",
       "<tr>\n",
       "  <th>Dep. Variable:</th>      <td>overtaking</td>    <th>  No. Observations:  </th>   <td>   592</td>  \n",
       "</tr>\n",
       "<tr>\n",
       "  <th>Model:</th>                 <td>Logit</td>      <th>  Df Residuals:      </th>   <td>   589</td>  \n",
       "</tr>\n",
       "<tr>\n",
       "  <th>Method:</th>                 <td>MLE</td>       <th>  Df Model:          </th>   <td>     2</td>  \n",
       "</tr>\n",
       "<tr>\n",
       "  <th>Date:</th>            <td>Mon, 02 Dec 2019</td> <th>  Pseudo R-squ.:     </th>   <td>0.6143</td>  \n",
       "</tr>\n",
       "<tr>\n",
       "  <th>Time:</th>                <td>14:49:53</td>     <th>  Log-Likelihood:    </th>  <td> -154.32</td> \n",
       "</tr>\n",
       "<tr>\n",
       "  <th>converged:</th>             <td>True</td>       <th>  LL-Null:           </th>  <td> -400.06</td> \n",
       "</tr>\n",
       "<tr>\n",
       "  <th>Covariance Type:</th>     <td>nonrobust</td>    <th>  LLR p-value:       </th> <td>1.873e-107</td>\n",
       "</tr>\n",
       "</table>\n",
       "<table class=\"simpletable\">\n",
       "<tr>\n",
       "    <td></td>       <th>coef</th>     <th>std err</th>      <th>z</th>      <th>P>|z|</th>  <th>[0.025</th>    <th>0.975]</th>  \n",
       "</tr>\n",
       "<tr>\n",
       "  <th>lspd</th>  <td>  -19.9022</td> <td>    1.676</td> <td>  -11.874</td> <td> 0.000</td> <td>  -23.187</td> <td>  -16.617</td>\n",
       "</tr>\n",
       "<tr>\n",
       "  <th>fspd0</th> <td>   11.3642</td> <td>    1.735</td> <td>    6.551</td> <td> 0.000</td> <td>    7.964</td> <td>   14.764</td>\n",
       "</tr>\n",
       "<tr>\n",
       "  <th>fmax</th>  <td>    4.9977</td> <td>    1.408</td> <td>    3.551</td> <td> 0.000</td> <td>    2.239</td> <td>    7.756</td>\n",
       "</tr>\n",
       "</table>"
      ],
      "text/plain": [
       "<class 'statsmodels.iolib.summary.Summary'>\n",
       "\"\"\"\n",
       "                           Logit Regression Results                           \n",
       "==============================================================================\n",
       "Dep. Variable:             overtaking   No. Observations:                  592\n",
       "Model:                          Logit   Df Residuals:                      589\n",
       "Method:                           MLE   Df Model:                            2\n",
       "Date:                Mon, 02 Dec 2019   Pseudo R-squ.:                  0.6143\n",
       "Time:                        14:49:53   Log-Likelihood:                -154.32\n",
       "converged:                       True   LL-Null:                       -400.06\n",
       "Covariance Type:            nonrobust   LLR p-value:                1.873e-107\n",
       "==============================================================================\n",
       "                 coef    std err          z      P>|z|      [0.025      0.975]\n",
       "------------------------------------------------------------------------------\n",
       "lspd         -19.9022      1.676    -11.874      0.000     -23.187     -16.617\n",
       "fspd0         11.3642      1.735      6.551      0.000       7.964      14.764\n",
       "fmax           4.9977      1.408      3.551      0.000       2.239       7.756\n",
       "==============================================================================\n",
       "\"\"\""
      ]
     },
     "execution_count": 13,
     "metadata": {},
     "output_type": "execute_result"
    }
   ],
   "source": [
    "m1 = Logit(df['overtaking'], df[['lspd', 'fspd0', 'fmax']]).fit()\n",
    "m1.summary()\n"
   ]
  }
 ],
 "metadata": {
  "kernelspec": {
   "display_name": "overtaking",
   "language": "python",
   "name": "overtaking"
  },
  "language_info": {
   "codemirror_mode": {
    "name": "ipython",
    "version": 3
   },
   "file_extension": ".py",
   "mimetype": "text/x-python",
   "name": "python",
   "nbconvert_exporter": "python",
   "pygments_lexer": "ipython3",
   "version": "3.6.9"
  }
 },
 "nbformat": 4,
 "nbformat_minor": 2
}
